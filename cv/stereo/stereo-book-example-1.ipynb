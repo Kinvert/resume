{
 "cells": [
  {
   "cell_type": "markdown",
   "metadata": {},
   "source": [
    "## Learning OpenCV 4 Computer Vision with Python 3 - Pg 93\n",
    "https://github.com/PacktPublishing/Learning-OpenCV-4-Computer-Vision-with-Python-Third-Edition/blob/master/chapter04/disparity.py"
   ]
  },
  {
   "cell_type": "code",
   "execution_count": 1,
   "metadata": {},
   "outputs": [],
   "source": [
    "import cv2\n",
    "import numpy as np\n",
    "\n",
    "# Setting Parameters\n",
    "minDisparity = 16 # Minimum possible disparity value. Normally, it is zero but sometimes rectification algorithms can shift images, so this parameter needs to be adjusted accordingly.\n",
    "numDisparities = 192-minDisparity # Maximum disparity minus minimum disparity. The value is always greater than zero. In the current implementation, this parameter must be divisible by 16.\n",
    "blockSize = 5 # Matched block size. It must be an odd number >=1 . Normally, it should be somewhere in the 3..11 range\n",
    "'''\n",
    "uniquenessRatio:\n",
    "    Margin in percentage by which the best (minimum) computed cost function value should \"win\" the second best value to\n",
    "    consider the found match correct.\n",
    "    Normally, a value within the 5-15 range is good enough.\n",
    "'''\n",
    "uniquenessRatio = 1 # \n",
    "speckleWindowSize = 3 # Maximum size of smooth disparity regions to consider their noise speckles and invalidate. Set it to 0 to disable speckle filtering. Otherwise, set it somewhere in the 50-200 range.\n",
    "speckleRange = 3 # Maximum disparity variation within each connected component. If you do speckle filtering, set the parameter to a positive value, it will be implicitly multiplied by 16. Normally, 1 or 2 is good enough.\n",
    "disp12MaxDiff = 200\n",
    "'''\n",
    "P1, P2\n",
    "    The second parameter controlling the disparity smoothness. The larger the values are, the smoother the disparity is.\n",
    "    P1 is the penalty on the disparity change by plus or minus 1 between neighbor pixels.\n",
    "    P2 is the penalty on the disparity change by more than 1 between neighbor pixels.\n",
    "    The algorithm requires P2 > P1 .\n",
    "    See stereo_match.cpp sample where some reasonably good P1 and P2 values are shown\n",
    "    (like 8*number_of_image_channels*blockSize*blockSize and 32*number_of_image_channels*blockSize*blockSize , respectively).\n",
    "'''\n",
    "P1 = 8 * 3 * blockSize ** 2\n",
    "P2 = 32 * 3 * blockSize ** 2 # P2 must be greater than P1\n",
    "# MODE (unused) - Set it to StereoSGBM::MODE_HH to run the full-scale two-pass dynamic programming algorithm. It will consume O(W*H*numDisparities) bytes, which is large for 640x480 stereo and huge for HD-size pictures. By default, it is set to false .\n",
    "\n",
    "# Semi-Global Block Matching\n",
    "stereo = cv2.StereoSGBM_create(\n",
    "    minDisparity=minDisparity,\n",
    "    numDisparities=numDisparities,\n",
    "    blockSize=blockSize,\n",
    "    uniquenessRatio=uniquenessRatio,\n",
    "    speckleRange=speckleRange,\n",
    "    speckleWindowSize=speckleWindowSize,\n",
    "    disp12MaxDiff=disp12MaxDiff,\n",
    "    P1=P1,\n",
    "    P2=P2\n",
    ")\n",
    "\n",
    "imgL = cv2.imread('1lsm.png')\n",
    "imgR = cv2.imread('1rsm.png')\n",
    "\n",
    "def update(sliderValue = 0):\n",
    "    '''\n",
    "    This is updating the Trackbar values\n",
    "    '''\n",
    "    stereo.setBlockSize(\n",
    "        cv2.getTrackbarPos('blockSize', 'Disparity'))\n",
    "    stereo.setUniquenessRatio(\n",
    "        cv2.getTrackbarPos('uniquenessRatio', 'Disparity'))\n",
    "    stereo.setSpeckleWindowSize(\n",
    "        cv2.getTrackbarPos('speckleWindowSize', 'Disparity'))\n",
    "    stereo.setSpeckleRange(\n",
    "        cv2.getTrackbarPos('speckleRange', 'Disparity'))\n",
    "    stereo.setDisp12MaxDiff(\n",
    "        cv2.getTrackbarPos('disp12MaxDiff', 'Disparity'))\n",
    "\n",
    "    disparity = stereo.compute(\n",
    "        imgL, imgR).astype(np.float32) / 16.0\n",
    "\n",
    "    cv2.imshow('Left', imgL)\n",
    "    cv2.imshow('Right', imgR)\n",
    "    cv2.imshow('Disparity', (disparity - minDisparity) / numDisparities)\n",
    "\n",
    "# Create Window and Trackbars\n",
    "cv2.namedWindow('Disparity')\n",
    "cv2.createTrackbar('blockSize', 'Disparity', blockSize, 21, update) # Keep an eye on this, must be odd number > 1\n",
    "cv2.createTrackbar('uniquenessRatio', 'Disparity', uniquenessRatio, 50, update)\n",
    "cv2.createTrackbar('speckleWindowSize', 'Disparity', speckleWindowSize, 200, update)\n",
    "cv2.createTrackbar('speckleRange', 'Disparity', speckleRange, 50, update)\n",
    "cv2.createTrackbar('disp12MaxDiff', 'Disparity', disp12MaxDiff, 250, update)\n",
    "\n",
    "# Initialize the disparity map. Show the disparity map and images.\n",
    "update()\n",
    "\n",
    "# Wait for the user to press any key.\n",
    "# Meanwhile, update() will be called anytime the user moves a slider.\n",
    "cv2.waitKey()\n",
    "cv2.destroyAllWindows()"
   ]
  },
  {
   "cell_type": "markdown",
   "metadata": {},
   "source": [
    "https://vision.middlebury.edu/stereo/data/"
   ]
  },
  {
   "cell_type": "code",
   "execution_count": null,
   "metadata": {
    "collapsed": true
   },
   "outputs": [],
   "source": []
  }
 ],
 "metadata": {
  "kernelspec": {
   "display_name": "Python 3",
   "language": "python",
   "name": "python3"
  },
  "language_info": {
   "codemirror_mode": {
    "name": "ipython",
    "version": 3
   },
   "file_extension": ".py",
   "mimetype": "text/x-python",
   "name": "python",
   "nbconvert_exporter": "python",
   "pygments_lexer": "ipython3",
   "version": "3.6.3"
  }
 },
 "nbformat": 4,
 "nbformat_minor": 2
}
