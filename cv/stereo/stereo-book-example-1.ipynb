{
 "cells": [
  {
   "cell_type": "markdown",
   "metadata": {},
   "source": [
    "## Learning OpenCV 4 Computer Vision with Python 3 - Pg 93\n",
    "https://github.com/PacktPublishing/Learning-OpenCV-4-Computer-Vision-with-Python-Third-Edition/blob/master/chapter04/disparity.py"
   ]
  },
  {
   "cell_type": "code",
   "execution_count": 1,
   "metadata": {},
   "outputs": [],
   "source": [
    "import cv2\n",
    "import numpy as np\n",
    "\n",
    "minDisparity = 16\n",
    "numDisparities = 192-minDisparity\n",
    "blockSize = 5\n",
    "uniquenessRatio = 1\n",
    "speckleWindowSize = 3\n",
    "speckleRange = 3\n",
    "disp12MaxDiff = 200\n",
    "P1 = 600\n",
    "P2 = 2400\n",
    "\n",
    "stereo = cv2.StereoSGBM_create(\n",
    "    minDisparity=minDisparity,\n",
    "    numDisparities=numDisparities,\n",
    "    blockSize=blockSize,\n",
    "    uniquenessRatio=uniquenessRatio,\n",
    "    speckleRange=speckleRange,\n",
    "    speckleWindowSize=speckleWindowSize,\n",
    "    disp12MaxDiff=disp12MaxDiff,\n",
    "    P1=P1,\n",
    "    P2=P2\n",
    ")\n",
    "\n",
    "imgL = cv2.imread('1lsm.png')\n",
    "imgR = cv2.imread('1rsm.png')\n",
    "\n",
    "def update(sliderValue = 0):\n",
    "\n",
    "    stereo.setBlockSize(\n",
    "        cv2.getTrackbarPos('blockSize', 'Disparity'))\n",
    "    stereo.setUniquenessRatio(\n",
    "        cv2.getTrackbarPos('uniquenessRatio', 'Disparity'))\n",
    "    stereo.setSpeckleWindowSize(\n",
    "        cv2.getTrackbarPos('speckleWindowSize', 'Disparity'))\n",
    "    stereo.setSpeckleRange(\n",
    "        cv2.getTrackbarPos('speckleRange', 'Disparity'))\n",
    "    stereo.setDisp12MaxDiff(\n",
    "        cv2.getTrackbarPos('disp12MaxDiff', 'Disparity'))\n",
    "\n",
    "    disparity = stereo.compute(\n",
    "        imgL, imgR).astype(np.float32) / 16.0\n",
    "\n",
    "    cv2.imshow('Left', imgL)\n",
    "    cv2.imshow('Right', imgR)\n",
    "    cv2.imshow('Disparity',\n",
    "               (disparity - minDisparity) / numDisparities)\n",
    "\n",
    "\n",
    "cv2.namedWindow('Disparity')\n",
    "cv2.createTrackbar('blockSize', 'Disparity', blockSize, 21,\n",
    "                   update)\n",
    "cv2.createTrackbar('uniquenessRatio', 'Disparity',\n",
    "                   uniquenessRatio, 50, update)\n",
    "cv2.createTrackbar('speckleWindowSize', 'Disparity',\n",
    "                   speckleWindowSize, 200, update)\n",
    "cv2.createTrackbar('speckleRange', 'Disparity',\n",
    "                   speckleRange, 50, update)\n",
    "cv2.createTrackbar('disp12MaxDiff', 'Disparity',\n",
    "                   disp12MaxDiff, 250, update)\n",
    "\n",
    "# Initialize the disparity map. Show the disparity map and images.\n",
    "update()\n",
    "\n",
    "# Wait for the user to press any key.\n",
    "# Meanwhile, update() will be called anytime the user moves a slider.\n",
    "cv2.waitKey()\n",
    "cv2.destroyAllWindows()"
   ]
  },
  {
   "cell_type": "markdown",
   "metadata": {},
   "source": [
    "https://vision.middlebury.edu/stereo/data/"
   ]
  },
  {
   "cell_type": "code",
   "execution_count": null,
   "metadata": {
    "collapsed": true
   },
   "outputs": [],
   "source": []
  }
 ],
 "metadata": {
  "kernelspec": {
   "display_name": "Python 3",
   "language": "python",
   "name": "python3"
  },
  "language_info": {
   "codemirror_mode": {
    "name": "ipython",
    "version": 3
   },
   "file_extension": ".py",
   "mimetype": "text/x-python",
   "name": "python",
   "nbconvert_exporter": "python",
   "pygments_lexer": "ipython3",
   "version": "3.6.3"
  }
 },
 "nbformat": 4,
 "nbformat_minor": 2
}
