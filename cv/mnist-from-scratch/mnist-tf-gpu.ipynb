{
 "cells": [
  {
   "cell_type": "markdown",
   "id": "8bdfa136",
   "metadata": {},
   "source": [
    "## Benchmark 3070ti\n",
    "Since making MNIST classifiers from scratch I wanted to compare how it performs now that I have a 3070ti."
   ]
  },
  {
   "cell_type": "code",
   "execution_count": 1,
   "id": "0faa7d45",
   "metadata": {},
   "outputs": [],
   "source": [
    "import tensorflow as tf\n",
    "import keras\n",
    "from keras.datasets import mnist\n",
    "(X_train, Y_train), (X_test, Y_test) = mnist.load_data()\n",
    "X_train = X_train / 255.0\n",
    "X_test = X_test / 255.0"
   ]
  },
  {
   "cell_type": "code",
   "execution_count": 3,
   "id": "09b737aa",
   "metadata": {},
   "outputs": [
    {
     "name": "stdout",
     "output_type": "stream",
     "text": [
      "<keras.engine.sequential.Sequential object at 0x7f36d32c77f0>\n",
      "Epoch 1/10\n",
      "8/8 [==============================] - 0s 25ms/step - loss: 1.1283 - accuracy: 0.6577\n",
      "Epoch 2/10\n",
      "8/8 [==============================] - 0s 25ms/step - loss: 0.4583 - accuracy: 0.8654\n",
      "Epoch 3/10\n",
      "8/8 [==============================] - 0s 25ms/step - loss: 0.3472 - accuracy: 0.8990\n",
      "Epoch 4/10\n",
      "8/8 [==============================] - 0s 26ms/step - loss: 0.2921 - accuracy: 0.9162\n",
      "Epoch 5/10\n",
      "8/8 [==============================] - 0s 25ms/step - loss: 0.2559 - accuracy: 0.9249\n",
      "Epoch 6/10\n",
      "8/8 [==============================] - 0s 25ms/step - loss: 0.2276 - accuracy: 0.9332\n",
      "Epoch 7/10\n",
      "8/8 [==============================] - 0s 26ms/step - loss: 0.2036 - accuracy: 0.9406\n",
      "Epoch 8/10\n",
      "8/8 [==============================] - 0s 25ms/step - loss: 0.1836 - accuracy: 0.9461\n",
      "Epoch 9/10\n",
      "8/8 [==============================] - 0s 26ms/step - loss: 0.1691 - accuracy: 0.9503\n",
      "Epoch 10/10\n",
      "8/8 [==============================] - 0s 24ms/step - loss: 0.1550 - accuracy: 0.9547\n",
      "313/313 - 1s - loss: 0.1267 - accuracy: 0.9633 - 585ms/epoch - 2ms/step\n"
     ]
    },
    {
     "data": {
      "text/plain": [
       "[0.12674500048160553, 0.9632999897003174]"
      ]
     },
     "execution_count": 3,
     "metadata": {},
     "output_type": "execute_result"
    }
   ],
   "source": [
    "data_augmentation = tf.keras.Sequential([\n",
    "    tf.keras.layers.RandomRotation(0.2)\n",
    "])\n",
    "model = tf.keras.models.Sequential([\n",
    "    tf.keras.layers.Conv2D(input_shape=(28,28,1),\n",
    "                    filters=30,\n",
    "                    kernel_size=5),\n",
    "    tf.keras.layers.Flatten(),\n",
    "    tf.keras.layers.Dense(128, activation='relu'),\n",
    "    tf.keras.layers.Dropout(0.2),\n",
    "    tf.keras.layers.Dense(10)\n",
    "])\n",
    "print(model)\n",
    "loss_fn = tf.keras.losses.SparseCategoricalCrossentropy(from_logits=True)\n",
    "model.compile(optimizer='adam', loss=loss_fn, metrics=['accuracy'])\n",
    "model.fit(X_train, Y_train, epochs=10, batch_size=8192)\n",
    "model.evaluate(X_test,  Y_test, verbose=2)"
   ]
  },
  {
   "cell_type": "code",
   "execution_count": null,
   "id": "3e08a27d",
   "metadata": {},
   "outputs": [],
   "source": []
  }
 ],
 "metadata": {
  "kernelspec": {
   "display_name": "Python 3 (ipykernel)",
   "language": "python",
   "name": "python3"
  },
  "language_info": {
   "codemirror_mode": {
    "name": "ipython",
    "version": 3
   },
   "file_extension": ".py",
   "mimetype": "text/x-python",
   "name": "python",
   "nbconvert_exporter": "python",
   "pygments_lexer": "ipython3",
   "version": "3.8.10"
  }
 },
 "nbformat": 4,
 "nbformat_minor": 5
}
