{
 "cells": [
  {
   "cell_type": "markdown",
   "id": "c3638e18",
   "metadata": {},
   "source": [
    "## Imports"
   ]
  },
  {
   "cell_type": "code",
   "execution_count": 1,
   "id": "81983807",
   "metadata": {},
   "outputs": [],
   "source": [
    "import glob\n",
    "import math\n",
    "import matplotlib.pyplot as plt\n",
    "%matplotlib inline\n",
    "import numpy as np\n",
    "import os\n",
    "import pandas as pd\n",
    "from PIL import Image, ImageDraw\n",
    "import random\n",
    "import tensorflow as tf\n",
    "from tensorflow.keras import backend as K\n",
    "import yaml"
   ]
  },
  {
   "cell_type": "markdown",
   "id": "cf80b885",
   "metadata": {},
   "source": [
    "## Parameters"
   ]
  },
  {
   "cell_type": "code",
   "execution_count": 2,
   "id": "37996a9f",
   "metadata": {},
   "outputs": [],
   "source": [
    "epochs = 100\n",
    "batchSize = 512\n",
    "\n",
    "# Path to images directory. Inside this folder, create circs and nocircs folders.\n",
    "dataDir = '//home//user//path//to//images//'\n",
    "\n",
    "imageFormat = 'png'\n",
    "labelFormat = 'yaml'\n",
    "numImages = 2000 # of each image type, circs and nocircs\n",
    "roiSize = 64\n",
    "valFrac = 0.1\n",
    "testFrac = 0.2"
   ]
  },
  {
   "cell_type": "markdown",
   "id": "10374b90",
   "metadata": {},
   "source": [
    "## Create Data"
   ]
  },
  {
   "cell_type": "code",
   "execution_count": 3,
   "id": "a2b4e0c3",
   "metadata": {},
   "outputs": [],
   "source": [
    "for i in range(numImages):\n",
    "    im = Image.new('L', (roiSize, roiSize))\n",
    "    draw = ImageDraw.Draw(im)\n",
    "    x = random.randint(0, roiSize)\n",
    "    y = random.randint(0, roiSize)\n",
    "    d = random.randint(2, roiSize / 2)\n",
    "    draw.ellipse((x-d/2, y-d/2, x+d/2, y+d/2), fill=255)\n",
    "    imageName = 'img{}'.format(i)\n",
    "    im.save('{}{}.{}'.format(dataDir + 'circs//', imageName, imageFormat))\n",
    "    with open('{}{}.{}'.format(dataDir + 'circs//', imageName, labelFormat), 'w') as labelFile:\n",
    "        data = {\n",
    "            'img': '{}{}.{}'.format(dataDir + 'circs//', imageName, imageFormat),\n",
    "            'x': float(x/roiSize), # X Center\n",
    "            'y': float(y/roiSize), # Y Center\n",
    "            'd': float(d/roiSize), # Diameter\n",
    "            'c': float(1.0)        # Certainty of circle in image\n",
    "        }\n",
    "        yaml.dump(data, labelFile)\n",
    "\n",
    "    draw.rectangle([x-d/2, y-d/2, x+d/2, y+d/2], fill=255)\n",
    "    imageName = 'img{}'.format(i)\n",
    "    im.save('{}{}.{}'.format(dataDir + 'nocircs//', imageName, imageFormat))\n",
    "    with open('{}{}.{}'.format(dataDir + 'nocircs//', imageName, labelFormat), 'w') as labelFile:\n",
    "        data = {\n",
    "            'img': '{}{}.{}'.format(dataDir + 'nocircs//', imageName, imageFormat),\n",
    "            'x': float(x/roiSize),\n",
    "            'y': float(y/roiSize),\n",
    "            'd': float(d/roiSize),\n",
    "            'c': float(0.0)\n",
    "        }\n",
    "        yaml.dump(data, labelFile)"
   ]
  },
  {
   "cell_type": "markdown",
   "id": "66419f2f",
   "metadata": {},
   "source": [
    "## Load Data Functions"
   ]
  },
  {
   "cell_type": "code",
   "execution_count": 4,
   "id": "75de9074",
   "metadata": {},
   "outputs": [],
   "source": [
    "def getAllImageNames(allLabels):\n",
    "    allImageNames = []\n",
    "    for label in allLabels:\n",
    "        allImageNames.append(label['img'])\n",
    "    return allImageNames\n",
    "\n",
    "def getAllImagesAsNumpyArray(allImageNames):\n",
    "    X = np.zeros(shape=(numLabels, roiSize, roiSize)).astype(float)\n",
    "    for i, imageName in enumerate(allImageNames):\n",
    "        im = Image.open(imageName)\n",
    "        X[i] = np.asarray(im)\n",
    "    return X\n",
    "\n",
    "def getAllLabels(allLabelNames):\n",
    "    allLabels = []\n",
    "    for i, labelName in enumerate(allLabelNames):\n",
    "        allLabels.append(yamlLoader(labelName))\n",
    "    return allLabels\n",
    "\n",
    "def getAllLabelNames():\n",
    "    os.chdir(dataDir + 'circs//')\n",
    "    allLabelNames = glob.glob('*.{}'.format(labelFormat))\n",
    "    theseLabelNames = []\n",
    "    for i, labelName in enumerate(allLabelNames):\n",
    "        theseLabelNames.append(dataDir + 'circs//' + labelName)\n",
    "        theseLabelNames.append(dataDir + 'nocircs//' + labelName)\n",
    "    return theseLabelNames\n",
    "\n",
    "def labelsNumpyArray(allLabels):\n",
    "    Y = np.zeros(shape=(numLabels, 4)).astype(float)\n",
    "    for i, data in enumerate(allLabels):\n",
    "        Y[i][0] = data['x']\n",
    "        Y[i][1] = data['y']\n",
    "        Y[i][2] = data['d']\n",
    "        Y[i][3] = data['c']\n",
    "    return Y\n",
    "\n",
    "def yamlLoader(filePath):\n",
    "    os.chdir(dataDir)\n",
    "    with open(filePath, 'r') as f:\n",
    "        data = yaml.load(f, Loader=yaml.SafeLoader)\n",
    "    return data\n"
   ]
  },
  {
   "cell_type": "markdown",
   "id": "8a778d3e",
   "metadata": {},
   "source": [
    "## Load Data"
   ]
  },
  {
   "cell_type": "code",
   "execution_count": 6,
   "id": "1e802a5a",
   "metadata": {},
   "outputs": [
    {
     "name": "stdout",
     "output_type": "stream",
     "text": [
      "X_train shape = (2800, 64, 64, 1)\n",
      "Y_train shape = (2800, 4)\n"
     ]
    }
   ],
   "source": [
    "# Get Labels\n",
    "allLabelNames = getAllLabelNames()\n",
    "random.shuffle(allLabelNames)\n",
    "numLabels = len(allLabelNames)\n",
    "allLabels = getAllLabels(allLabelNames)\n",
    "Y = labelsNumpyArray(allLabels)\n",
    "\n",
    "# Get Images\n",
    "allImageNames = getAllImageNames(allLabels)\n",
    "X = getAllImagesAsNumpyArray(allImageNames)\n",
    "\n",
    "# Split Test Data\n",
    "test_valid_delimeter = int(numLabels * testFrac)\n",
    "X_test = X[0:test_valid_delimeter,:,:]\n",
    "X_test = X_test / 255.0\n",
    "X_test = tf.convert_to_tensor(X_test, np.float32)\n",
    "X_test = tf.expand_dims(X_test, axis=-1)\n",
    "Y_test = Y[0:test_valid_delimeter]\n",
    "Y_test = tf.convert_to_tensor(Y_test, np.float32)\n",
    "\n",
    "# Split Validation Data\n",
    "valid_train_delimeter = test_valid_delimeter + int(numLabels * valFrac)\n",
    "X_validation = X[test_valid_delimeter:valid_train_delimeter, :, :]\n",
    "X_validation = X_validation / 255.0\n",
    "X_validation = tf.convert_to_tensor(X_validation, np.float32)\n",
    "X_validation = tf.expand_dims(X_validation, axis=-1)\n",
    "Y_validation = Y[test_valid_delimeter:valid_train_delimeter]\n",
    "Y_validation = tf.convert_to_tensor(Y_validation, np.float32)\n",
    "\n",
    "# Split Train Data\n",
    "X_train = X[valid_train_delimeter:numLabels, :, :]\n",
    "X_train = X_train / 255.0\n",
    "X_train = tf.convert_to_tensor(X_train, np.float32)\n",
    "X_train = tf.expand_dims(X_train, axis=-1)\n",
    "Y_train = Y[valid_train_delimeter:numLabels]\n",
    "Y_train = tf.convert_to_tensor(Y_train, np.float32)\n",
    "\n",
    "print('X_train shape = {}'.format(X_train.shape))\n",
    "print('Y_train shape = {}'.format(Y_train.shape))"
   ]
  },
  {
   "cell_type": "markdown",
   "id": "8634c0e6",
   "metadata": {},
   "source": [
    "## Train"
   ]
  },
  {
   "cell_type": "code",
   "execution_count": 7,
   "id": "1ff036dc",
   "metadata": {
    "collapsed": true
   },
   "outputs": [
    {
     "name": "stdout",
     "output_type": "stream",
     "text": [
      "Epoch 1/100\n"
     ]
    },
    {
     "name": "stderr",
     "output_type": "stream",
     "text": [
      "2022-11-14 20:55:09.907851: I tensorflow/stream_executor/cuda/cuda_dnn.cc:368] Loaded cuDNN version 8100\n",
      "2022-11-14 20:55:11.734983: I tensorflow/stream_executor/cuda/cuda_blas.cc:1786] TensorFloat-32 will be used for the matrix multiplication. This will only be logged once.\n"
     ]
    },
    {
     "name": "stdout",
     "output_type": "stream",
     "text": [
      "6/6 [==============================] - 4s 90ms/step - loss: 0.1996 - mse: 0.1996 - val_loss: 0.1023 - val_mse: 0.1023\n",
      "Epoch 2/100\n",
      "6/6 [==============================] - 0s 21ms/step - loss: 0.1042 - mse: 0.1042 - val_loss: 0.0908 - val_mse: 0.0908\n",
      "Epoch 3/100\n",
      "6/6 [==============================] - 0s 21ms/step - loss: 0.0871 - mse: 0.0871 - val_loss: 0.0698 - val_mse: 0.0698\n",
      "Epoch 4/100\n",
      "6/6 [==============================] - 0s 22ms/step - loss: 0.0739 - mse: 0.0739 - val_loss: 0.0597 - val_mse: 0.0597\n",
      "Epoch 5/100\n",
      "6/6 [==============================] - 0s 21ms/step - loss: 0.0640 - mse: 0.0640 - val_loss: 0.0557 - val_mse: 0.0557\n",
      "Epoch 6/100\n",
      "6/6 [==============================] - 0s 20ms/step - loss: 0.0599 - mse: 0.0599 - val_loss: 0.0497 - val_mse: 0.0497\n",
      "Epoch 7/100\n",
      "6/6 [==============================] - 0s 22ms/step - loss: 0.0540 - mse: 0.0540 - val_loss: 0.0457 - val_mse: 0.0457\n",
      "Epoch 8/100\n",
      "6/6 [==============================] - 0s 21ms/step - loss: 0.0483 - mse: 0.0483 - val_loss: 0.0403 - val_mse: 0.0403\n",
      "Epoch 9/100\n",
      "6/6 [==============================] - 0s 19ms/step - loss: 0.0423 - mse: 0.0423 - val_loss: 0.0362 - val_mse: 0.0362\n",
      "Epoch 10/100\n",
      "6/6 [==============================] - 0s 20ms/step - loss: 0.0382 - mse: 0.0382 - val_loss: 0.0334 - val_mse: 0.0334\n",
      "Epoch 11/100\n",
      "6/6 [==============================] - 0s 22ms/step - loss: 0.0339 - mse: 0.0339 - val_loss: 0.0294 - val_mse: 0.0294\n",
      "Epoch 12/100\n",
      "6/6 [==============================] - 0s 20ms/step - loss: 0.0313 - mse: 0.0313 - val_loss: 0.0275 - val_mse: 0.0275\n",
      "Epoch 13/100\n",
      "6/6 [==============================] - 0s 19ms/step - loss: 0.0299 - mse: 0.0299 - val_loss: 0.0255 - val_mse: 0.0255\n",
      "Epoch 14/100\n",
      "6/6 [==============================] - 0s 22ms/step - loss: 0.0284 - mse: 0.0284 - val_loss: 0.0246 - val_mse: 0.0246\n",
      "Epoch 15/100\n",
      "6/6 [==============================] - 0s 22ms/step - loss: 0.0273 - mse: 0.0273 - val_loss: 0.0233 - val_mse: 0.0233\n",
      "Epoch 16/100\n",
      "6/6 [==============================] - 0s 19ms/step - loss: 0.0258 - mse: 0.0258 - val_loss: 0.0236 - val_mse: 0.0236\n",
      "Epoch 17/100\n",
      "6/6 [==============================] - 0s 20ms/step - loss: 0.0246 - mse: 0.0246 - val_loss: 0.0230 - val_mse: 0.0230\n",
      "Epoch 18/100\n",
      "6/6 [==============================] - 0s 24ms/step - loss: 0.0248 - mse: 0.0248 - val_loss: 0.0217 - val_mse: 0.0217\n",
      "Epoch 19/100\n",
      "6/6 [==============================] - 0s 22ms/step - loss: 0.0232 - mse: 0.0232 - val_loss: 0.0227 - val_mse: 0.0227\n",
      "Epoch 20/100\n",
      "6/6 [==============================] - 0s 22ms/step - loss: 0.0221 - mse: 0.0221 - val_loss: 0.0204 - val_mse: 0.0204\n",
      "Epoch 21/100\n",
      "6/6 [==============================] - 0s 22ms/step - loss: 0.0207 - mse: 0.0207 - val_loss: 0.0203 - val_mse: 0.0203\n",
      "Epoch 22/100\n",
      "6/6 [==============================] - 0s 22ms/step - loss: 0.0203 - mse: 0.0203 - val_loss: 0.0195 - val_mse: 0.0195\n",
      "Epoch 23/100\n",
      "6/6 [==============================] - 0s 20ms/step - loss: 0.0197 - mse: 0.0197 - val_loss: 0.0201 - val_mse: 0.0201\n",
      "Epoch 24/100\n",
      "6/6 [==============================] - 0s 23ms/step - loss: 0.0194 - mse: 0.0194 - val_loss: 0.0189 - val_mse: 0.0189\n",
      "Epoch 25/100\n",
      "6/6 [==============================] - 0s 21ms/step - loss: 0.0191 - mse: 0.0191 - val_loss: 0.0188 - val_mse: 0.0188\n",
      "Epoch 26/100\n",
      "6/6 [==============================] - 0s 20ms/step - loss: 0.0187 - mse: 0.0187 - val_loss: 0.0194 - val_mse: 0.0194\n",
      "Epoch 27/100\n",
      "6/6 [==============================] - 0s 20ms/step - loss: 0.0190 - mse: 0.0190 - val_loss: 0.0201 - val_mse: 0.0201\n",
      "Epoch 28/100\n",
      "6/6 [==============================] - 0s 24ms/step - loss: 0.0179 - mse: 0.0179 - val_loss: 0.0180 - val_mse: 0.0180\n",
      "Epoch 29/100\n",
      "6/6 [==============================] - 0s 23ms/step - loss: 0.0173 - mse: 0.0173 - val_loss: 0.0174 - val_mse: 0.0174\n",
      "Epoch 30/100\n",
      "6/6 [==============================] - 0s 22ms/step - loss: 0.0163 - mse: 0.0163 - val_loss: 0.0168 - val_mse: 0.0168\n",
      "Epoch 31/100\n",
      "6/6 [==============================] - 0s 20ms/step - loss: 0.0168 - mse: 0.0168 - val_loss: 0.0173 - val_mse: 0.0173\n",
      "Epoch 32/100\n",
      "6/6 [==============================] - 0s 21ms/step - loss: 0.0165 - mse: 0.0165 - val_loss: 0.0170 - val_mse: 0.0170\n",
      "Epoch 33/100\n",
      "6/6 [==============================] - 0s 21ms/step - loss: 0.0152 - mse: 0.0152 - val_loss: 0.0163 - val_mse: 0.0163\n",
      "Epoch 34/100\n",
      "6/6 [==============================] - 0s 20ms/step - loss: 0.0154 - mse: 0.0154 - val_loss: 0.0171 - val_mse: 0.0171\n",
      "Epoch 35/100\n",
      "6/6 [==============================] - 0s 21ms/step - loss: 0.0155 - mse: 0.0155 - val_loss: 0.0166 - val_mse: 0.0166\n",
      "Epoch 36/100\n",
      "6/6 [==============================] - 0s 22ms/step - loss: 0.0146 - mse: 0.0146 - val_loss: 0.0176 - val_mse: 0.0176\n",
      "Epoch 37/100\n",
      "6/6 [==============================] - 0s 20ms/step - loss: 0.0147 - mse: 0.0147 - val_loss: 0.0166 - val_mse: 0.0166\n",
      "Epoch 38/100\n",
      "6/6 [==============================] - 0s 20ms/step - loss: 0.0137 - mse: 0.0137 - val_loss: 0.0167 - val_mse: 0.0167\n",
      "Epoch 39/100\n",
      "6/6 [==============================] - 0s 22ms/step - loss: 0.0144 - mse: 0.0144 - val_loss: 0.0172 - val_mse: 0.0172\n",
      "Epoch 40/100\n",
      "6/6 [==============================] - 0s 20ms/step - loss: 0.0143 - mse: 0.0143 - val_loss: 0.0160 - val_mse: 0.0160\n",
      "Epoch 41/100\n",
      "6/6 [==============================] - 0s 21ms/step - loss: 0.0137 - mse: 0.0137 - val_loss: 0.0161 - val_mse: 0.0161\n",
      "Epoch 42/100\n",
      "6/6 [==============================] - 0s 23ms/step - loss: 0.0135 - mse: 0.0135 - val_loss: 0.0188 - val_mse: 0.0188\n",
      "Epoch 43/100\n",
      "6/6 [==============================] - 0s 23ms/step - loss: 0.0149 - mse: 0.0149 - val_loss: 0.0159 - val_mse: 0.0159\n",
      "Epoch 44/100\n",
      "6/6 [==============================] - 0s 21ms/step - loss: 0.0139 - mse: 0.0139 - val_loss: 0.0163 - val_mse: 0.0163\n",
      "Epoch 45/100\n",
      "6/6 [==============================] - 0s 20ms/step - loss: 0.0145 - mse: 0.0145 - val_loss: 0.0160 - val_mse: 0.0160\n",
      "Epoch 46/100\n",
      "6/6 [==============================] - 0s 20ms/step - loss: 0.0143 - mse: 0.0143 - val_loss: 0.0183 - val_mse: 0.0183\n",
      "Epoch 47/100\n",
      "6/6 [==============================] - 0s 23ms/step - loss: 0.0137 - mse: 0.0137 - val_loss: 0.0170 - val_mse: 0.0170\n",
      "Epoch 48/100\n",
      "6/6 [==============================] - 0s 19ms/step - loss: 0.0130 - mse: 0.0130 - val_loss: 0.0152 - val_mse: 0.0152\n",
      "Epoch 49/100\n",
      "6/6 [==============================] - 0s 20ms/step - loss: 0.0124 - mse: 0.0124 - val_loss: 0.0147 - val_mse: 0.0147\n",
      "Epoch 50/100\n",
      "6/6 [==============================] - 0s 20ms/step - loss: 0.0122 - mse: 0.0122 - val_loss: 0.0155 - val_mse: 0.0155\n",
      "Epoch 51/100\n",
      "6/6 [==============================] - 0s 22ms/step - loss: 0.0129 - mse: 0.0129 - val_loss: 0.0175 - val_mse: 0.0175\n",
      "Epoch 52/100\n",
      "6/6 [==============================] - 0s 19ms/step - loss: 0.0129 - mse: 0.0129 - val_loss: 0.0156 - val_mse: 0.0156\n",
      "Epoch 53/100\n",
      "6/6 [==============================] - 0s 21ms/step - loss: 0.0119 - mse: 0.0119 - val_loss: 0.0153 - val_mse: 0.0153\n",
      "Epoch 54/100\n",
      "6/6 [==============================] - 0s 22ms/step - loss: 0.0118 - mse: 0.0118 - val_loss: 0.0151 - val_mse: 0.0151\n",
      "Epoch 55/100\n",
      "6/6 [==============================] - 0s 21ms/step - loss: 0.0117 - mse: 0.0117 - val_loss: 0.0148 - val_mse: 0.0148\n",
      "Epoch 56/100\n",
      "6/6 [==============================] - 0s 20ms/step - loss: 0.0120 - mse: 0.0120 - val_loss: 0.0144 - val_mse: 0.0144\n",
      "Epoch 57/100\n",
      "6/6 [==============================] - 0s 21ms/step - loss: 0.0113 - mse: 0.0113 - val_loss: 0.0144 - val_mse: 0.0144\n",
      "Epoch 58/100\n",
      "6/6 [==============================] - 0s 22ms/step - loss: 0.0112 - mse: 0.0112 - val_loss: 0.0142 - val_mse: 0.0142\n",
      "Epoch 59/100\n",
      "6/6 [==============================] - 0s 20ms/step - loss: 0.0111 - mse: 0.0111 - val_loss: 0.0140 - val_mse: 0.0140\n",
      "Epoch 60/100\n",
      "6/6 [==============================] - 0s 19ms/step - loss: 0.0106 - mse: 0.0106 - val_loss: 0.0138 - val_mse: 0.0138\n",
      "Epoch 61/100\n",
      "6/6 [==============================] - 0s 23ms/step - loss: 0.0104 - mse: 0.0104 - val_loss: 0.0137 - val_mse: 0.0137\n",
      "Epoch 62/100\n",
      "6/6 [==============================] - 0s 21ms/step - loss: 0.0109 - mse: 0.0109 - val_loss: 0.0142 - val_mse: 0.0142\n",
      "Epoch 63/100\n",
      "6/6 [==============================] - 0s 22ms/step - loss: 0.0107 - mse: 0.0107 - val_loss: 0.0151 - val_mse: 0.0151\n"
     ]
    },
    {
     "name": "stdout",
     "output_type": "stream",
     "text": [
      "Epoch 64/100\n",
      "6/6 [==============================] - 0s 21ms/step - loss: 0.0111 - mse: 0.0111 - val_loss: 0.0129 - val_mse: 0.0129\n",
      "Epoch 65/100\n",
      "6/6 [==============================] - 0s 22ms/step - loss: 0.0102 - mse: 0.0102 - val_loss: 0.0132 - val_mse: 0.0132\n",
      "Epoch 66/100\n",
      "6/6 [==============================] - 0s 21ms/step - loss: 0.0108 - mse: 0.0108 - val_loss: 0.0135 - val_mse: 0.0135\n",
      "Epoch 67/100\n",
      "6/6 [==============================] - 0s 24ms/step - loss: 0.0108 - mse: 0.0108 - val_loss: 0.0142 - val_mse: 0.0142\n",
      "Epoch 68/100\n",
      "6/6 [==============================] - 0s 20ms/step - loss: 0.0106 - mse: 0.0106 - val_loss: 0.0154 - val_mse: 0.0154\n",
      "Epoch 69/100\n",
      "6/6 [==============================] - 0s 23ms/step - loss: 0.0104 - mse: 0.0104 - val_loss: 0.0141 - val_mse: 0.0141\n",
      "Epoch 70/100\n",
      "6/6 [==============================] - 0s 20ms/step - loss: 0.0098 - mse: 0.0098 - val_loss: 0.0138 - val_mse: 0.0138\n",
      "Epoch 71/100\n",
      "6/6 [==============================] - 0s 22ms/step - loss: 0.0104 - mse: 0.0104 - val_loss: 0.0130 - val_mse: 0.0130\n",
      "Epoch 72/100\n",
      "6/6 [==============================] - 0s 20ms/step - loss: 0.0096 - mse: 0.0096 - val_loss: 0.0137 - val_mse: 0.0137\n",
      "Epoch 73/100\n",
      "6/6 [==============================] - 0s 20ms/step - loss: 0.0100 - mse: 0.0100 - val_loss: 0.0130 - val_mse: 0.0130\n",
      "Epoch 74/100\n",
      "6/6 [==============================] - 0s 19ms/step - loss: 0.0097 - mse: 0.0097 - val_loss: 0.0133 - val_mse: 0.0133\n",
      "Epoch 75/100\n",
      "6/6 [==============================] - 0s 21ms/step - loss: 0.0096 - mse: 0.0096 - val_loss: 0.0129 - val_mse: 0.0129\n",
      "Epoch 76/100\n",
      "6/6 [==============================] - 0s 23ms/step - loss: 0.0093 - mse: 0.0093 - val_loss: 0.0131 - val_mse: 0.0131\n",
      "Epoch 77/100\n",
      "6/6 [==============================] - 0s 21ms/step - loss: 0.0096 - mse: 0.0096 - val_loss: 0.0125 - val_mse: 0.0125\n",
      "Epoch 78/100\n",
      "6/6 [==============================] - 0s 20ms/step - loss: 0.0096 - mse: 0.0096 - val_loss: 0.0127 - val_mse: 0.0127\n",
      "Epoch 79/100\n",
      "6/6 [==============================] - 0s 24ms/step - loss: 0.0093 - mse: 0.0093 - val_loss: 0.0122 - val_mse: 0.0122\n",
      "Epoch 80/100\n",
      "6/6 [==============================] - 0s 19ms/step - loss: 0.0094 - mse: 0.0094 - val_loss: 0.0121 - val_mse: 0.0121\n",
      "Epoch 81/100\n",
      "6/6 [==============================] - 0s 20ms/step - loss: 0.0092 - mse: 0.0092 - val_loss: 0.0125 - val_mse: 0.0125\n",
      "Epoch 82/100\n",
      "6/6 [==============================] - 0s 20ms/step - loss: 0.0094 - mse: 0.0094 - val_loss: 0.0129 - val_mse: 0.0129\n",
      "Epoch 83/100\n",
      "6/6 [==============================] - 0s 22ms/step - loss: 0.0093 - mse: 0.0093 - val_loss: 0.0133 - val_mse: 0.0133\n",
      "Epoch 84/100\n",
      "6/6 [==============================] - 0s 21ms/step - loss: 0.0089 - mse: 0.0089 - val_loss: 0.0122 - val_mse: 0.0122\n",
      "Epoch 85/100\n",
      "6/6 [==============================] - 0s 21ms/step - loss: 0.0086 - mse: 0.0086 - val_loss: 0.0121 - val_mse: 0.0121\n",
      "Epoch 86/100\n",
      "6/6 [==============================] - 0s 21ms/step - loss: 0.0087 - mse: 0.0087 - val_loss: 0.0125 - val_mse: 0.0125\n",
      "Epoch 87/100\n",
      "6/6 [==============================] - 0s 21ms/step - loss: 0.0089 - mse: 0.0089 - val_loss: 0.0120 - val_mse: 0.0120\n",
      "Epoch 88/100\n",
      "6/6 [==============================] - 0s 20ms/step - loss: 0.0090 - mse: 0.0090 - val_loss: 0.0129 - val_mse: 0.0129\n",
      "Epoch 89/100\n",
      "6/6 [==============================] - 0s 21ms/step - loss: 0.0085 - mse: 0.0085 - val_loss: 0.0122 - val_mse: 0.0122\n",
      "Epoch 90/100\n",
      "6/6 [==============================] - 0s 22ms/step - loss: 0.0087 - mse: 0.0087 - val_loss: 0.0129 - val_mse: 0.0129\n",
      "Epoch 91/100\n",
      "6/6 [==============================] - 0s 21ms/step - loss: 0.0084 - mse: 0.0084 - val_loss: 0.0124 - val_mse: 0.0124\n",
      "Epoch 92/100\n",
      "6/6 [==============================] - 0s 22ms/step - loss: 0.0084 - mse: 0.0084 - val_loss: 0.0115 - val_mse: 0.0115\n",
      "Epoch 93/100\n",
      "6/6 [==============================] - 0s 22ms/step - loss: 0.0084 - mse: 0.0084 - val_loss: 0.0117 - val_mse: 0.0117\n",
      "Epoch 94/100\n",
      "6/6 [==============================] - 0s 22ms/step - loss: 0.0080 - mse: 0.0080 - val_loss: 0.0114 - val_mse: 0.0114\n",
      "Epoch 95/100\n",
      "6/6 [==============================] - 0s 21ms/step - loss: 0.0081 - mse: 0.0081 - val_loss: 0.0120 - val_mse: 0.0120\n",
      "Epoch 96/100\n",
      "6/6 [==============================] - 0s 21ms/step - loss: 0.0083 - mse: 0.0083 - val_loss: 0.0118 - val_mse: 0.0118\n",
      "Epoch 97/100\n",
      "6/6 [==============================] - 0s 22ms/step - loss: 0.0078 - mse: 0.0078 - val_loss: 0.0116 - val_mse: 0.0116\n",
      "Epoch 98/100\n",
      "6/6 [==============================] - 0s 19ms/step - loss: 0.0077 - mse: 0.0077 - val_loss: 0.0118 - val_mse: 0.0118\n",
      "Epoch 99/100\n",
      "6/6 [==============================] - 0s 21ms/step - loss: 0.0078 - mse: 0.0078 - val_loss: 0.0124 - val_mse: 0.0124\n",
      "Epoch 100/100\n",
      "6/6 [==============================] - 0s 21ms/step - loss: 0.0077 - mse: 0.0077 - val_loss: 0.0122 - val_mse: 0.0122\n"
     ]
    }
   ],
   "source": [
    "model = tf.keras.models.Sequential([\n",
    "    tf.keras.layers.Conv2D(\n",
    "        input_shape=(roiSize, roiSize, 1),\n",
    "        filters=8,\n",
    "        kernel_size=3,\n",
    "        padding='same'),\n",
    "    tf.keras.layers.Conv2D(\n",
    "        filters=8,\n",
    "        kernel_size=3,\n",
    "        padding='same'),\n",
    "    tf.keras.layers.MaxPooling2D((2,2)),\n",
    "    tf.keras.layers.Flatten(),\n",
    "    tf.keras.layers.Dropout(0.4),\n",
    "    tf.keras.layers.Dense(128, activation='relu'),\n",
    "    tf.keras.layers.Dropout(0.4),\n",
    "    tf.keras.layers.Dense(4, activation='relu')\n",
    "    ])\n",
    "loss_fn = tf.keras.losses.MeanSquaredError()\n",
    "model.compile(optimizer='adam', loss=loss_fn, metrics=['mse'])\n",
    "history = model.fit(X_train,\n",
    "                    Y_train,\n",
    "                    epochs=epochs,\n",
    "                    batch_size=batchSize,\n",
    "                    validation_data=(X_validation, Y_validation)\n",
    "                    )"
   ]
  },
  {
   "cell_type": "code",
   "execution_count": 8,
   "id": "72800853",
   "metadata": {},
   "outputs": [
    {
     "name": "stdout",
     "output_type": "stream",
     "text": [
      "25/25 - 0s - loss: 0.0107 - mse: 0.0107 - 217ms/epoch - 9ms/step\n"
     ]
    },
    {
     "data": {
      "text/plain": [
       "[0.010707162320613861, 0.010707162320613861]"
      ]
     },
     "execution_count": 8,
     "metadata": {},
     "output_type": "execute_result"
    }
   ],
   "source": [
    "model.evaluate(X_test, Y_test, verbose=2)"
   ]
  },
  {
   "cell_type": "markdown",
   "id": "41ba3158",
   "metadata": {},
   "source": [
    "## Plot History"
   ]
  },
  {
   "cell_type": "code",
   "execution_count": 9,
   "id": "26a7d5bb",
   "metadata": {},
   "outputs": [
    {
     "data": {
      "text/plain": [
       "<AxesSubplot:>"
      ]
     },
     "execution_count": 9,
     "metadata": {},
     "output_type": "execute_result"
    },
    {
     "data": {
      "image/png": "[encoded data removed]",
      "text/plain": [
       "<Figure size 432x288 with 1 Axes>"
      ]
     },
     "metadata": {
      "needs_background": "light"
     },
     "output_type": "display_data"
    }
   ],
   "source": [
    "pd.DataFrame(history.history).plot()"
   ]
  },
  {
   "cell_type": "markdown",
   "id": "477772a3",
   "metadata": {},
   "source": [
    "## Test Data True Vs Predicted"
   ]
  },
  {
   "cell_type": "code",
   "execution_count": 10,
   "id": "cca90302",
   "metadata": {},
   "outputs": [
    {
     "name": "stdout",
     "output_type": "stream",
     "text": [
      "Actual [0.40625 0.625   0.375   1.     ]\n",
      "PRED   [0.40193892 0.63289493 0.4101773  0.9457199 ]\n"
     ]
    },
    {
     "data": {
      "text/plain": [
       "Text(0.5, 1.0, 'Predicted')"
      ]
     },
     "execution_count": 10,
     "metadata": {},
     "output_type": "execute_result"
    },
    {
     "data": {
      "image/png": "[encoded data removed]",
      "text/plain": [
       "<Figure size 1080x1080 with 2 Axes>"
      ]
     },
     "metadata": {
      "needs_background": "light"
     },
     "output_type": "display_data"
    }
   ],
   "source": [
    "idx = 10\n",
    "x = tf.expand_dims(X_test[idx], axis=0)\n",
    "pred = model.predict(x)\n",
    "print('Actual {}'.format(Y_test[idx]))\n",
    "print('PRED   {}'.format(pred[0]))\n",
    "\n",
    "im = Image.new('L', (roiSize, roiSize))\n",
    "draw = ImageDraw.Draw(im)\n",
    "x = int(pred[0][0] * roiSize)\n",
    "y = int(pred[0][1] * roiSize)\n",
    "d = int(pred[0][2] * roiSize)\n",
    "draw.ellipse((x-d/2, y-d/2, x+d/2, y+d/2), fill=255)\n",
    "predImg = np.asarray(im)\n",
    "\n",
    "f, axarr = plt.subplots(1, 2, figsize=(15, 15))\n",
    "axarr[0].imshow(X_test[idx])\n",
    "axarr[0].set_title('Actual')\n",
    "axarr[1].imshow(im)\n",
    "axarr[1].set_title('Predicted')"
   ]
  },
  {
   "cell_type": "markdown",
   "id": "e8280e82",
   "metadata": {},
   "source": [
    "## Test With Rounded Squares"
   ]
  },
  {
   "cell_type": "code",
   "execution_count": 13,
   "id": "cbff8b59",
   "metadata": {},
   "outputs": [
    {
     "name": "stdout",
     "output_type": "stream",
     "text": [
      "Actual [0.421875, 0.46875, 0.453125, 0.35714285714285715]\n",
      "PRED   [0.36776528 0.39384112 0.39128733 0.        ]\n"
     ]
    },
    {
     "data": {
      "text/plain": [
       "Text(0.5, 1.0, 'Predicted')"
      ]
     },
     "execution_count": 13,
     "metadata": {},
     "output_type": "execute_result"
    },
    {
     "data": {
      "image/png": "[encoded data removed]",
      "text/plain": [
       "<Figure size 1080x1080 with 2 Axes>"
      ]
     },
     "metadata": {
      "needs_background": "light"
     },
     "output_type": "display_data"
    }
   ],
   "source": [
    "x = random.randint(20,30)\n",
    "y = random.randint(20, 30)\n",
    "d = random.randint(20, 30)\n",
    "maxRad = math.floor(d/2)\n",
    "r = random.randint(0, maxRad)\n",
    "\n",
    "im = Image.new('L', (roiSize, roiSize))\n",
    "draw = ImageDraw.Draw(im)\n",
    "draw.rounded_rectangle([x-d/2, y-d/2, x+d/2, y+d/2], radius=r, fill=255)\n",
    "\n",
    "tX = []\n",
    "tX.append(np.asarray(im))\n",
    "tX = np.asarray(tX)\n",
    "\n",
    "tX = tX / 255.0\n",
    "tX = tf.convert_to_tensor(tX, np.float32)\n",
    "tX = tf.expand_dims(tX, axis=-1)\n",
    "actual = [x/roiSize, y/roiSize, d/roiSize, r/maxRad]\n",
    "pred = model.predict(tX)\n",
    "print('Actual {}'.format(actual))\n",
    "print('PRED   {}'.format(pred[0]))\n",
    "\n",
    "im = Image.new('L', (roiSize, roiSize))\n",
    "draw = ImageDraw.Draw(im)\n",
    "x = int(pred[0][0] * roiSize)\n",
    "y = int(pred[0][1] * roiSize)\n",
    "d = int(pred[0][2] * roiSize)\n",
    "if pred[0][3] > 0.5:\n",
    "    draw.ellipse((x-d/2, y-d/2, x+d/2, y+d/2), fill=255)\n",
    "else:\n",
    "    draw.rectangle([x-d/2, y-d/2, x+d/2, y+d/2], fill=255)\n",
    "predImg = np.asarray(im)\n",
    "\n",
    "f, axarr = plt.subplots(1, 2, figsize=(15, 15))\n",
    "axarr[0].imshow(tX[0])\n",
    "axarr[0].set_title('Actual')\n",
    "axarr[1].imshow(im)\n",
    "axarr[1].set_title('Predicted')"
   ]
  },
  {
   "cell_type": "code",
   "execution_count": null,
   "id": "a965911b",
   "metadata": {},
   "outputs": [],
   "source": []
  }
 ],
 "metadata": {
  "kernelspec": {
   "display_name": "Python 3 (ipykernel)",
   "language": "python",
   "name": "python3"
  },
  "language_info": {
   "codemirror_mode": {
    "name": "ipython",
    "version": 3
   },
   "file_extension": ".py",
   "mimetype": "text/x-python",
   "name": "python",
   "nbconvert_exporter": "python",
   "pygments_lexer": "ipython3",
   "version": "3.8.13"
  }
 },
 "nbformat": 4,
 "nbformat_minor": 5
}
